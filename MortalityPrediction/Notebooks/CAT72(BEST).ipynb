{
  "cells": [
    {
      "cell_type": "code",
      "execution_count": 1,
      "metadata": {
        "id": "bcSFPj1XXGFn"
      },
      "outputs": [],
      "source": [
        "import pandas as pd\n",
        "import seaborn as sns\n",
        "import matplotlib.pyplot as plt\n",
        "import numpy as np"
      ]
    },
    {
      "cell_type": "code",
      "execution_count": 2,
      "metadata": {
        "colab": {
          "base_uri": "https://localhost:8080/"
        },
        "id": "scTrK55qXHll",
        "outputId": "13d116b9-681b-4ef2-f980-ca2b31a5a462"
      },
      "outputs": [
        {
          "name": "stdout",
          "output_type": "stream",
          "text": [
            "Drive already mounted at /content/drive; to attempt to forcibly remount, call drive.mount(\"/content/drive\", force_remount=True).\n"
          ]
        },
        {
          "data": {
            "text/plain": [
              "(20492, 33)"
            ]
          },
          "execution_count": 2,
          "metadata": {},
          "output_type": "execute_result"
        }
      ],
      "source": [
        "from google.colab import drive\n",
        "drive.mount('/content/drive')\n",
        "dataset = 'drive/MyDrive/Preprocessed_dataset.xlsx'\n",
        "df = pd.read_excel(dataset)\n",
        "df.shape"
      ]
    },
    {
      "cell_type": "code",
      "execution_count": null,
      "metadata": {
        "id": "-V1OMz2rXJHp"
      },
      "outputs": [],
      "source": [
        "from sklearn.model_selection import train_test_split\n",
        "from sklearn.ensemble import ExtraTreesClassifier\n",
        "\n",
        "# Assuming 'target_column' is the name of your target variable column\n",
        "X = df.drop('hospital_death', axis=1)\n",
        "y = df['hospital_death']\n",
        "\n",
        "# Split data into training and testing sets\n",
        "X_train, X_test, y_train, y_test = train_test_split(X, y, test_size=0.25, random_state=11) "
      ]
    },
    {
      "cell_type": "code",
      "execution_count": null,
      "metadata": {
        "colab": {
          "base_uri": "https://localhost:8080/"
        },
        "id": "6dpMxfMWXTe8",
        "outputId": "688e0a0f-13b8-432e-cdfa-ab7bca50c09c"
      },
      "outputs": [
        {
          "name": "stdout",
          "output_type": "stream",
          "text": [
            "              precision    recall  f1-score   support\n",
            "\n",
            "           0       0.93      1.00      0.96      4710\n",
            "           1       0.83      0.09      0.17       413\n",
            "\n",
            "    accuracy                           0.93      5123\n",
            "   macro avg       0.88      0.55      0.57      5123\n",
            "weighted avg       0.92      0.93      0.90      5123\n",
            "\n",
            "              precision    recall  f1-score   support\n",
            "\n",
            "           0       0.95      0.96      0.95      4710\n",
            "           1       0.46      0.42      0.44       413\n",
            "\n",
            "    accuracy                           0.91      5123\n",
            "   macro avg       0.70      0.69      0.70      5123\n",
            "weighted avg       0.91      0.91      0.91      5123\n",
            "\n"
          ]
        }
      ],
      "source": [
        "from sklearn.metrics import classification_report\n",
        "\n",
        "# Initialize and train the ExtraTreesClassifier\n",
        "etc = ExtraTreesClassifier(n_estimators=250, random_state=11)\n",
        "etc.fit(X_train, y_train)\n",
        "\n",
        "# Make predictions on the test set\n",
        "y_pred = etc.predict(X_test)\n",
        "\n",
        "# Generate the classification report\n",
        "print(classification_report(y_test, y_pred))\n",
        "\n",
        "from sklearn.metrics import precision_recall_curve\n",
        "\n",
        "# Get predicted probabilities\n",
        "y_proba = etc.predict_proba(X_test)[:, 1]\n",
        "\n",
        "# Find the optimal threshold\n",
        "precision, recall, thresholds = precision_recall_curve(y_test, y_proba)\n",
        "f1_scores = 2 * (precision * recall) / (precision + recall)\n",
        "optimal_threshold = thresholds[np.argmax(f1_scores)]\n",
        "\n",
        "# Apply the optimal threshold\n",
        "y_pred_optimal = (y_proba >= optimal_threshold).astype(int)\n",
        "print(classification_report(y_test, y_pred_optimal))"
      ]
    },
    {
      "cell_type": "code",
      "execution_count": null,
      "metadata": {
        "id": "sP5BCIprYQ1T"
      },
      "outputs": [],
      "source": [
        "from imblearn.over_sampling import SMOTE\n",
        "smote = SMOTE(random_state=11)\n",
        "X_train_resampled, y_train_resampled = smote.fit_resample(X_train, y_train)"
      ]
    },
    {
      "cell_type": "code",
      "execution_count": null,
      "metadata": {
        "colab": {
          "base_uri": "https://localhost:8080/"
        },
        "id": "lAmrIZZ1YVNg",
        "outputId": "baaa8512-9784-4e08-a141-721f6d7ad8c0"
      },
      "outputs": [
        {
          "name": "stdout",
          "output_type": "stream",
          "text": [
            "              precision    recall  f1-score   support\n",
            "\n",
            "           0       0.94      0.96      0.95      4710\n",
            "           1       0.41      0.34      0.37       413\n",
            "\n",
            "    accuracy                           0.91      5123\n",
            "   macro avg       0.68      0.65      0.66      5123\n",
            "weighted avg       0.90      0.91      0.90      5123\n",
            "\n",
            "              precision    recall  f1-score   support\n",
            "\n",
            "           0       0.95      0.93      0.94      4710\n",
            "           1       0.36      0.44      0.39       413\n",
            "\n",
            "    accuracy                           0.89      5123\n",
            "   macro avg       0.65      0.68      0.67      5123\n",
            "weighted avg       0.90      0.89      0.90      5123\n",
            "\n"
          ]
        }
      ],
      "source": [
        "etc = ExtraTreesClassifier(n_estimators=250, random_state=11)\n",
        "etc.fit(X_train_resampled, y_train_resampled)\n",
        "\n",
        "# Make predictions on the test set\n",
        "y_pred = etc.predict(X_test)\n",
        "\n",
        "# Generate the classification report\n",
        "print(classification_report(y_test, y_pred))\n",
        "\n",
        "from sklearn.metrics import precision_recall_curve\n",
        "\n",
        "# Get predicted probabilities\n",
        "y_proba = etc.predict_proba(X_test)[:, 1]\n",
        "\n",
        "# Find the optimal threshold\n",
        "precision, recall, thresholds = precision_recall_curve(y_test, y_proba)\n",
        "f1_scores = 2 * (precision * recall) / (precision + recall)\n",
        "optimal_threshold = thresholds[np.argmax(f1_scores)]\n",
        "\n",
        "# Apply the optimal threshold\n",
        "y_pred_optimal = (y_proba >= optimal_threshold).astype(int)\n",
        "print(classification_report(y_test, y_pred_optimal))"
      ]
    },
    {
      "cell_type": "code",
      "execution_count": null,
      "metadata": {
        "colab": {
          "base_uri": "https://localhost:8080/"
        },
        "id": "Hua3xz1OYkPH",
        "outputId": "658d215c-8f22-4cba-bb97-31d22ca05bf2"
      },
      "outputs": [
        {
          "name": "stdout",
          "output_type": "stream",
          "text": [
            "              precision    recall  f1-score   support\n",
            "\n",
            "           0       0.95      0.91      0.93      4710\n",
            "           1       0.32      0.46      0.38       413\n",
            "\n",
            "    accuracy                           0.88      5123\n",
            "   macro avg       0.64      0.69      0.66      5123\n",
            "weighted avg       0.90      0.88      0.89      5123\n",
            "\n",
            "ROC-AUC: 0.7932666060054595\n",
            "PR-AUC: 0.3559907059387663\n",
            "              precision    recall  f1-score   support\n",
            "\n",
            "           0       0.95      0.92      0.93      4710\n",
            "           1       0.33      0.45      0.38       413\n",
            "\n",
            "    accuracy                           0.88      5123\n",
            "   macro avg       0.64      0.69      0.66      5123\n",
            "weighted avg       0.90      0.88      0.89      5123\n",
            "\n"
          ]
        }
      ],
      "source": [
        "from sklearn.ensemble import ExtraTreesClassifier\n",
        "from sklearn.metrics import classification_report, roc_auc_score, average_precision_score\n",
        "from imblearn.over_sampling import SMOTE\n",
        "\n",
        "# Apply SMOTE\n",
        "smote = SMOTE(random_state=11)\n",
        "X_train_resampled, y_train_resampled = smote.fit_resample(X_train, y_train)\n",
        "\n",
        "# Initialize and train the ExtraTreesClassifier\n",
        "etc = ExtraTreesClassifier(\n",
        "    n_estimators=250,\n",
        "    random_state=11,\n",
        "    class_weight='balanced',  # Handle imbalance\n",
        "    max_depth=20,             # Example tuned parameter\n",
        "    min_samples_split=5,      # Example tuned parameter\n",
        "    min_samples_leaf=2        # Example tuned parameter\n",
        ")\n",
        "etc.fit(X_train_resampled, y_train_resampled)\n",
        "\n",
        "# Make predictions\n",
        "y_pred = etc.predict(X_test)\n",
        "y_proba = etc.predict_proba(X_test)[:, 1]\n",
        "\n",
        "# Evaluate\n",
        "print(classification_report(y_test, y_pred))\n",
        "print(\"ROC-AUC:\", roc_auc_score(y_test, y_proba))\n",
        "print(\"PR-AUC:\", average_precision_score(y_test, y_proba))\n",
        "\n",
        "from sklearn.metrics import precision_recall_curve\n",
        "\n",
        "# Get predicted probabilities\n",
        "y_proba = etc.predict_proba(X_test)[:, 1]\n",
        "\n",
        "# Find the optimal threshold\n",
        "precision, recall, thresholds = precision_recall_curve(y_test, y_proba)\n",
        "f1_scores = 2 * (precision * recall) / (precision + recall)\n",
        "optimal_threshold = thresholds[np.argmax(f1_scores)]\n",
        "\n",
        "# Apply the optimal threshold\n",
        "y_pred_optimal = (y_proba >= optimal_threshold).astype(int)\n",
        "print(classification_report(y_test, y_pred_optimal))"
      ]
    },
    {
      "cell_type": "code",
      "execution_count": null,
      "metadata": {
        "colab": {
          "base_uri": "https://localhost:8080/"
        },
        "id": "i1_Boi_PbfzZ",
        "outputId": "4010aecd-b3f9-4dfe-c96f-2c5d99b0b7ff"
      },
      "outputs": [
        {
          "name": "stdout",
          "output_type": "stream",
          "text": [
            "Fitting 5 folds for each of 50 candidates, totalling 250 fits\n",
            "Best hyperparameters: {'class_weight': 'balanced', 'max_depth': 30, 'max_features': 'log2', 'min_samples_leaf': 5, 'min_samples_split': 2, 'n_estimators': 293}\n",
            "              precision    recall  f1-score   support\n",
            "\n",
            "           0       0.95      0.95      0.95      4710\n",
            "           1       0.43      0.42      0.43       413\n",
            "\n",
            "    accuracy                           0.91      5123\n",
            "   macro avg       0.69      0.69      0.69      5123\n",
            "weighted avg       0.91      0.91      0.91      5123\n",
            "\n",
            "ROC-AUC: 0.8203513209234897\n",
            "PR-AUC: 0.4069265196448312\n",
            "              precision    recall  f1-score   support\n",
            "\n",
            "           0       0.95      0.94      0.94      4710\n",
            "           1       0.39      0.47      0.43       413\n",
            "\n",
            "    accuracy                           0.90      5123\n",
            "   macro avg       0.67      0.70      0.69      5123\n",
            "weighted avg       0.91      0.90      0.90      5123\n",
            "\n"
          ]
        }
      ],
      "source": [
        "from sklearn.model_selection import RandomizedSearchCV\n",
        "from scipy.stats import randint\n",
        "\n",
        "param_dist = {\n",
        "    'n_estimators': randint(100, 500),  # Number of trees in the forest\n",
        "    'max_depth': [None, 10, 20, 30, 40],  # Maximum depth of the tree\n",
        "    'min_samples_split': randint(2, 20), # Minimum number of samples required to split an internal node\n",
        "    'min_samples_leaf': randint(1, 10), # Minimum number of samples required to be at a leaf node\n",
        "    'max_features': ['sqrt', 'log2', None], # The number of features to consider when looking for the best split\n",
        "    'class_weight': ['balanced', None]\n",
        "}\n",
        "\n",
        "# Initialize RandomizedSearchCV\n",
        "random_search = RandomizedSearchCV(\n",
        "    estimator=ExtraTreesClassifier(random_state=11),  # Use your ExtraTreesClassifier\n",
        "    param_distributions=param_dist,\n",
        "    n_iter=50,  # Number of random parameter combinations to try (adjust as needed)\n",
        "    cv=5,       # Number of cross-validation folds (adjust as needed)\n",
        "    scoring='f1',  # Scoring metric (you can change this)\n",
        "    n_jobs=-1,    # Use all available CPU cores\n",
        "    verbose=1,    # Print progress updates\n",
        "    random_state=11 # Set a random state for reproducibility\n",
        ")\n",
        "\n",
        "# Fit the random search to the resampled training data\n",
        "random_search.fit(X_train, y_train)\n",
        "\n",
        "# Get the best model and its hyperparameters\n",
        "best_etc = random_search.best_estimator_\n",
        "print(\"Best hyperparameters:\", random_search.best_params_)\n",
        "\n",
        "# Evaluate the best model on the test set\n",
        "y_pred = best_etc.predict(X_test)\n",
        "y_proba = best_etc.predict_proba(X_test)[:, 1]\n",
        "\n",
        "print(classification_report(y_test, y_pred))\n",
        "print(\"ROC-AUC:\", roc_auc_score(y_test, y_proba))\n",
        "print(\"PR-AUC:\", average_precision_score(y_test, y_proba))\n",
        "\n",
        "# Find optimal threshold using the best model\n",
        "precision, recall, thresholds = precision_recall_curve(y_test, y_proba)\n",
        "f1_scores = 2 * (precision * recall) / (precision + recall)\n",
        "optimal_threshold = thresholds[np.argmax(f1_scores)]\n",
        "y_pred_optimal = (y_proba >= optimal_threshold).astype(int)\n",
        "print(classification_report(y_test, y_pred_optimal))"
      ]
    },
    {
      "cell_type": "code",
      "execution_count": null,
      "metadata": {
        "colab": {
          "base_uri": "https://localhost:8080/"
        },
        "id": "oMAQZsRgWHY-",
        "outputId": "94f342cd-cd36-4ff5-cc58-1113dcbfb331"
      },
      "outputs": [
        {
          "data": {
            "text/plain": [
              "(20492, 33)"
            ]
          },
          "execution_count": 5,
          "metadata": {},
          "output_type": "execute_result"
        }
      ],
      "source": [
        "data = 'drive/MyDrive/Preprocessed_dataset.xlsx'\n",
        "df2 = pd.read_excel(data)\n",
        "df2.shape"
      ]
    },
    {
      "cell_type": "code",
      "execution_count": null,
      "metadata": {
        "id": "sRI3g0e3CCbr"
      },
      "outputs": [],
      "source": [
        "from sklearn.model_selection import train_test_split\n",
        "# Assuming 'target_column' is the name of your target variable column\n",
        "X = df2.drop('hospital_death', axis=1)\n",
        "y = df2['hospital_death']\n",
        "\n",
        "# Split data into training and testing sets\n",
        "X_train, X_test, y_train, y_test = train_test_split(X, y, test_size=0.20, random_state=11) # Adjust test_size and random_state as needed"
      ]
    },
    {
      "cell_type": "code",
      "execution_count": null,
      "metadata": {
        "colab": {
          "base_uri": "https://localhost:8080/"
        },
        "id": "fUdAnZBRDd3y",
        "outputId": "6f5d866a-013b-495d-e416-28dbf5cbcb35"
      },
      "outputs": [
        {
          "name": "stdout",
          "output_type": "stream",
          "text": [
            "              precision    recall  f1-score   support\n",
            "\n",
            "           0       0.93      1.00      0.96      4710\n",
            "           1       0.83      0.09      0.17       413\n",
            "\n",
            "    accuracy                           0.93      5123\n",
            "   macro avg       0.88      0.55      0.57      5123\n",
            "weighted avg       0.92      0.93      0.90      5123\n",
            "\n",
            "              precision    recall  f1-score   support\n",
            "\n",
            "           0       0.95      0.96      0.95      4710\n",
            "           1       0.46      0.42      0.44       413\n",
            "\n",
            "    accuracy                           0.91      5123\n",
            "   macro avg       0.70      0.69      0.70      5123\n",
            "weighted avg       0.91      0.91      0.91      5123\n",
            "\n"
          ]
        }
      ],
      "source": [
        "from sklearn.metrics import classification_report\n",
        "from sklearn.ensemble import ExtraTreesClassifier\n",
        "\n",
        "# Initialize and train the ExtraTreesClassifier\n",
        "etc = ExtraTreesClassifier(n_estimators=250, random_state=11)\n",
        "etc.fit(X_train, y_train)\n",
        "\n",
        "# Make predictions on the test set\n",
        "y_pred = etc.predict(X_test)\n",
        "\n",
        "# Generate the classification report\n",
        "print(classification_report(y_test, y_pred))\n",
        "\n",
        "from sklearn.metrics import precision_recall_curve\n",
        "\n",
        "# Get predicted probabilities\n",
        "y_proba = etc.predict_proba(X_test)[:, 1]\n",
        "\n",
        "# Find the optimal threshold\n",
        "precision, recall, thresholds = precision_recall_curve(y_test, y_proba)\n",
        "f1_scores = 2 * (precision * recall) / (precision + recall)\n",
        "optimal_threshold = thresholds[np.argmax(f1_scores)]\n",
        "\n",
        "# Apply the optimal threshold\n",
        "y_pred_optimal = (y_proba >= optimal_threshold).astype(int)\n",
        "print(classification_report(y_test, y_pred_optimal))"
      ]
    },
    {
      "cell_type": "code",
      "execution_count": null,
      "metadata": {
        "id": "WZsPgWgCDl1w"
      },
      "outputs": [],
      "source": [
        "from imblearn.over_sampling import SMOTE\n",
        "smote = SMOTE(random_state=11)\n",
        "X_train_resampled, y_train_resampled = smote.fit_resample(X_train, y_train)"
      ]
    },
    {
      "cell_type": "code",
      "execution_count": null,
      "metadata": {
        "colab": {
          "base_uri": "https://localhost:8080/"
        },
        "id": "7CJIbtMADoS5",
        "outputId": "dd41b9f3-6372-4d54-e945-ac37a524d4c7"
      },
      "outputs": [
        {
          "name": "stdout",
          "output_type": "stream",
          "text": [
            "              precision    recall  f1-score   support\n",
            "\n",
            "           0       0.94      0.96      0.95      4710\n",
            "           1       0.41      0.34      0.37       413\n",
            "\n",
            "    accuracy                           0.91      5123\n",
            "   macro avg       0.68      0.65      0.66      5123\n",
            "weighted avg       0.90      0.91      0.90      5123\n",
            "\n",
            "              precision    recall  f1-score   support\n",
            "\n",
            "           0       0.95      0.93      0.94      4710\n",
            "           1       0.36      0.44      0.39       413\n",
            "\n",
            "    accuracy                           0.89      5123\n",
            "   macro avg       0.65      0.68      0.67      5123\n",
            "weighted avg       0.90      0.89      0.90      5123\n",
            "\n"
          ]
        }
      ],
      "source": [
        "etc = ExtraTreesClassifier(n_estimators=250, random_state=11)\n",
        "etc.fit(X_train_resampled, y_train_resampled)\n",
        "\n",
        "# Make predictions on the test set\n",
        "y_pred = etc.predict(X_test)\n",
        "\n",
        "# Generate the classification report\n",
        "print(classification_report(y_test, y_pred))\n",
        "\n",
        "from sklearn.metrics import precision_recall_curve\n",
        "\n",
        "# Get predicted probabilities\n",
        "y_proba = etc.predict_proba(X_test)[:, 1]\n",
        "\n",
        "# Find the optimal threshold\n",
        "precision, recall, thresholds = precision_recall_curve(y_test, y_proba)\n",
        "f1_scores = 2 * (precision * recall) / (precision + recall)\n",
        "optimal_threshold = thresholds[np.argmax(f1_scores)]\n",
        "\n",
        "# Apply the optimal threshold\n",
        "y_pred_optimal = (y_proba >= optimal_threshold).astype(int)\n",
        "print(classification_report(y_test, y_pred_optimal))"
      ]
    },
    {
      "cell_type": "code",
      "execution_count": null,
      "metadata": {
        "id": "7y2UMnbnEOir"
      },
      "outputs": [],
      "source": [
        "!pip install catboost"
      ]
    },
    {
      "cell_type": "code",
      "execution_count": null,
      "metadata": {
        "id": "sUzOq8z6EInR"
      },
      "outputs": [],
      "source": [
        "from catboost import CatBoostClassifier\n",
        "from imblearn.combine import SMOTETomek\n",
        "from sklearn.metrics import classification_report\n",
        "\n",
        "smote_tomek = SMOTETomek(random_state=11) # Adjust random_state as needed\n",
        "X_train_resampled, y_train_resampled = smote_tomek.fit_resample(X_train, y_train)\n",
        "\n",
        "# Initialize and train the CatBoostClassifier\n",
        "cbm = CatBoostClassifier(iterations=350,  # Adjust iterations as needed\n",
        "                           learning_rate=0.1, # Adjust learning rate as needed\n",
        "                           random_seed=111,\n",
        "                           loss_function='Logloss', # Adjust loss function if needed\n",
        "                           eval_metric='PRAUC') #Adjust evaluation metric as needed\n",
        "\n",
        "cbm.fit(X_train_resampled, y_train_resampled, eval_set=(X_test, y_test), verbose=20) # Adjust verbose as needed\n",
        "\n",
        "# Make predictions on the test set\n",
        "y_pred = cbm.predict(X_test)\n",
        "\n",
        "# Generate the classification report\n",
        "print(classification_report(y_test, y_pred))"
      ]
    },
    {
      "cell_type": "code",
      "execution_count": null,
      "metadata": {
        "id": "GKSrOvmNXYCE"
      },
      "outputs": [],
      "source": [
        "cbm.save_model('catboost_model72.cbm')"
      ]
    },
    {
      "cell_type": "code",
      "execution_count": null,
      "metadata": {
        "colab": {
          "base_uri": "https://localhost:8080/",
          "height": 1000
        },
        "id": "DWOwlkAJUZEO",
        "outputId": "cde97c02-8f2e-4b20-b774-be19b66cd0c8"
      },
      "outputs": [
        {
          "data": {
            "image/png": "[encoded data removed]",
            "text/plain": [
              "<Figure size 800x600 with 1 Axes>"
            ]
          },
          "metadata": {},
          "output_type": "display_data"
        },
        {
          "data": {
            "image/png": "[encoded data removed]",
            "text/plain": [
              "<Figure size 800x600 with 1 Axes>"
            ]
          },
          "metadata": {},
          "output_type": "display_data"
        },
        {
          "name": "stdout",
          "output_type": "stream",
          "text": [
            "CatBoost ROC AUC: 0.8550\n",
            "CatBoost PR AUC: 0.5350\n"
          ]
        }
      ],
      "source": [
        "import matplotlib.pyplot as plt\n",
        "from sklearn.metrics import roc_curve, auc, precision_recall_curve, average_precision_score\n",
        "\n",
        "# Make predictions and get probabilities for CatBoost\n",
        "y_pred_cb = cbm.predict(X_test)\n",
        "y_proba_cb = cbm.predict_proba(X_test)[:, 1]\n",
        "\n",
        "# Calculate ROC AUC\n",
        "fpr_cb, tpr_cb, _ = roc_curve(y_test, y_proba_cb)\n",
        "roc_auc_cb = auc(fpr_cb, tpr_cb)\n",
        "\n",
        "# Calculate PR AUC\n",
        "precision_cb, recall_cb, _ = precision_recall_curve(y_test, y_proba_cb)\n",
        "pr_auc_cb = average_precision_score(y_test, y_proba_cb)\n",
        "\n",
        "\n",
        "# Plot ROC Curve\n",
        "plt.figure(figsize=(8, 6))\n",
        "plt.plot(fpr_cb, tpr_cb, color='darkorange', lw=2, label=f'ROC curve (area = {roc_auc_cb:.2f})')\n",
        "plt.plot([0, 1], [0, 1], color='navy', lw=2, linestyle='--')\n",
        "plt.xlim([0.0, 1.0])\n",
        "plt.ylim([0.0, 1.05])\n",
        "plt.xlabel('False Positive Rate')\n",
        "plt.ylabel('True Positive Rate')\n",
        "plt.title('Receiver Operating Characteristic (ROC) Curve - CatBoost')\n",
        "plt.legend(loc=\"lower right\")\n",
        "plt.show()\n",
        "\n",
        "# Plot PR Curve\n",
        "plt.figure(figsize=(8, 6))\n",
        "plt.plot(recall_cb, precision_cb, color='darkorange', lw=2, label=f'PR curve (area = {pr_auc_cb:.2f})')\n",
        "plt.xlim([0.0, 1.0])\n",
        "plt.ylim([0.0, 1.05])\n",
        "plt.xlabel('Recall')\n",
        "plt.ylabel('Precision')\n",
        "plt.title('Precision-Recall Curve - CatBoost')\n",
        "plt.legend(loc=\"lower left\")\n",
        "plt.show()\n",
        "\n",
        "print(f\"CatBoost ROC AUC: {roc_auc_cb:.4f}\")\n",
        "print(f\"CatBoost PR AUC: {pr_auc_cb:.4f}\")\n"
      ]
    }
  ],
  "metadata": {
    "colab": {
      "provenance": []
    },
    "kernelspec": {
      "display_name": "Python 3",
      "name": "python3"
    },
    "language_info": {
      "name": "python"
    }
  },
  "nbformat": 4,
  "nbformat_minor": 0
}
