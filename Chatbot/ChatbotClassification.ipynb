{
  "cells": [
    {
      "cell_type": "markdown",
      "metadata": {
        "id": "7t_22eQGvDfO"
      },
      "source": [
        "Import libraries"
      ]
    },
    {
      "cell_type": "code",
      "execution_count": null,
      "metadata": {
        "id": "coZyhHi0s8HW"
      },
      "outputs": [],
      "source": [
        "import nltk\n",
        "from nltk.tokenize import word_tokenize"
      ]
    },
    {
      "cell_type": "markdown",
      "metadata": {
        "id": "BKjdBU2rvIM9"
      },
      "source": [
        "Define questions"
      ]
    },
    {
      "cell_type": "code",
      "execution_count": null,
      "metadata": {
        "colab": {
          "base_uri": "https://localhost:8080/"
        },
        "id": "PRH15WYss0PJ",
        "outputId": "721f95d1-382e-4c2d-9ecd-5c85db1bcc57"
      },
      "outputs": [
        {
          "output_type": "stream",
          "name": "stderr",
          "text": [
            "[nltk_data] Downloading package punkt to /root/nltk_data...\n",
            "[nltk_data]   Unzipping tokenizers/punkt.zip.\n"
          ]
        }
      ],
      "source": [
        "nltk.download('punkt')\n",
        "\n",
        "questions = {\n",
        "    \"high_blood_pressure\": \"Have you been told you have high blood pressure by a doctor?\",\n",
        "    # YES - 1, NO - 0\n",
        "    \"high_cholesterol\": \"Have you been told you have high cholestrol by a doctor?\",\n",
        "    # YES - 1, NO - 0\n",
        "    \"bmi\": \"What is your Body Mass Index (BMI)?\",\n",
        "    # numerical(validate range)\n",
        "    \"smoking\": \"Have you smoked at least 100 cigarettes in your entire life? (5 packs = 100 cigarettes)\",\n",
        "    # YES - 1, NO - 0\n",
        "    \"physical_activity\": \"Have you done any physical activity or exercise in the past 30 days, other than your regular job?\",\n",
        "    # YES - 1, NO - 0\n",
        "    \"fruit_consumption\": \"Do you consume fruits at least once per day?\",\n",
        "    # YES - 1, NO - 0\n",
        "    \"vegetable_consumption\": \"Do you consume vegetables at least once per day?\",\n",
        "    # YES - 1, NO - 0\n",
        "    \"mental_health_days\": \"How many days in the past 30 days was your mental health not good?\",\n",
        "    # scale 0 - 30 days\n",
        "    \"difficulty_walking\": \"Do you have serious difficulty walking or climbing stairs?\",\n",
        "    # YES - 1, NO - 0\n",
        "    \"sex\": \"What is your gender? (Male/Female)\",\n",
        "    # MALE - 1, FEMALE - 0\n",
        "    \"age\": \"What is your age?\",\n",
        "    # mpping done below\n",
        "    \"household_income\": \"What is your annual household income from all sources?\"\n",
        "    # mpping done below\n",
        "}\n",
        "\n"
      ]
    },
    {
      "cell_type": "code",
      "source": [
        "# map age to age group\n",
        "# Define age mapping based on ranges\n",
        "age_map = {}\n",
        "\n",
        "# Populate age_map with ranges\n",
        "ranges = [\n",
        "    (1, range(18, 25)),  # 18–24\n",
        "    (2, range(25, 30)),  # 25–29\n",
        "    (3, range(30, 35)),  # 30–34\n",
        "    (4, range(35, 40)),  # 35–39\n",
        "    (5, range(40, 45)),  # 40–44\n",
        "    (6, range(45, 50)),  # 45–49\n",
        "    (7, range(50, 55)),  # 50–54\n",
        "    (8, range(55, 60)),  # 55–59\n",
        "    (9, range(60, 65)),  # 60–64\n",
        "    (10, range(65, 70)), # 65–69\n",
        "    (11, range(70, 75)), # 70–74\n",
        "    (12, range(75, 80)), # 75–79\n",
        "    (13, range(80, 100)) # 80–99\n",
        "]\n",
        "\n",
        "# Fill the dictionary\n",
        "for category, age_range in ranges:\n",
        "    for age in age_range:\n",
        "        age_map[age] = category\n",
        "\n",
        "# Example: Print age_map for verification\n",
        "print(age_map)"
      ],
      "metadata": {
        "colab": {
          "base_uri": "https://localhost:8080/"
        },
        "id": "F_axJBjvYHmA",
        "outputId": "a45a2247-1aa4-42e9-c641-7369390e602d"
      },
      "execution_count": null,
      "outputs": [
        {
          "output_type": "stream",
          "name": "stdout",
          "text": [
            "{18: 1, 19: 1, 20: 1, 21: 1, 22: 1, 23: 1, 24: 1, 25: 2, 26: 2, 27: 2, 28: 2, 29: 2, 30: 3, 31: 3, 32: 3, 33: 3, 34: 3, 35: 4, 36: 4, 37: 4, 38: 4, 39: 4, 40: 5, 41: 5, 42: 5, 43: 5, 44: 5, 45: 6, 46: 6, 47: 6, 48: 6, 49: 6, 50: 7, 51: 7, 52: 7, 53: 7, 54: 7, 55: 8, 56: 8, 57: 8, 58: 8, 59: 8, 60: 9, 61: 9, 62: 9, 63: 9, 64: 9, 65: 10, 66: 10, 67: 10, 68: 10, 69: 10, 70: 11, 71: 11, 72: 11, 73: 11, 74: 11, 75: 12, 76: 12, 77: 12, 78: 12, 79: 12, 80: 13, 81: 13, 82: 13, 83: 13, 84: 13, 85: 13, 86: 13, 87: 13, 88: 13, 89: 13, 90: 13, 91: 13, 92: 13, 93: 13, 94: 13, 95: 13, 96: 13, 97: 13, 98: 13, 99: 13}\n"
          ]
        }
      ]
    },
    {
      "cell_type": "code",
      "source": [
        "# Define income mapping based on ranges\n",
        "income_map = {}\n",
        "\n",
        "# Populate income_map with ranges\n",
        "income_ranges = [\n",
        "    (1, range(0, 10000)),        # Less than $10,000\n",
        "    (2, range(10000, 15000)),    # $10,000 to less than $15,000\n",
        "    (3, range(15000, 20000)),    # $15,000 to less than $20,000\n",
        "    (4, range(20000, 25000)),    # $20,000 to less than $25,000\n",
        "    (5, range(25000, 35000)),    # $25,000 to less than $35,000\n",
        "    (6, range(35000, 50000)),    # $35,000 to less than $50,000\n",
        "    (7, range(50000, 75000)),    # $50,000 to less than $75,000\n",
        "    (8, range(75000, 10**7))     # $75,000 or more (assuming no upper limit)\n",
        "]\n",
        "\n",
        "# Fill the dictionary\n",
        "for category, income_range in income_ranges:\n",
        "    for income in income_range:\n",
        "        income_map[income] = category\n",
        "\n",
        "# Example: Print income_map for verification\n",
        "print(f\"Mapping for $30,000: {income_map.get(30000)}\")\n",
        "print(f\"Mapping for $80,000: {income_map.get(80000)}\")\n"
      ],
      "metadata": {
        "colab": {
          "base_uri": "https://localhost:8080/"
        },
        "id": "qqOUY1v3ZsyN",
        "outputId": "f579b431-c242-4b2b-a1cd-9cdbdaff30fe"
      },
      "execution_count": null,
      "outputs": [
        {
          "output_type": "stream",
          "name": "stdout",
          "text": [
            "Mapping for $30,000: 5\n",
            "Mapping for $80,000: 8\n"
          ]
        }
      ]
    },
    {
      "cell_type": "markdown",
      "metadata": {
        "id": "DX37eKFXvM8m"
      },
      "source": [
        "Define explanation corpus"
      ]
    },
    {
      "cell_type": "code",
      "execution_count": null,
      "metadata": {
        "id": "1wuLRDuGvTFG"
      },
      "outputs": [],
      "source": [
        "explanations = {\n",
        "    \"high_blood_pressure\": \"High blood pressure means your blood pushes too hard against your arteries. It can lead to health problems if untreated.\",\n",
        "    \"high_cholesterol\": \"High cholesterol means there's too much fat in your blood, which can raise the risk of heart problems.\",\n",
        "    \"bmi\": \"BMI is a measure of weight compared to height to check if you're underweight, normal, overweight, or obese.\",\n",
        "    \"smoking\": \"Smoking 100 cigarettes means you've smoked regularly, equal to about five packs.\",\n",
        "    \"physical_activity\": \"This asks if you've done exercise or sports recently.\",\n",
        "    \"fruit_consumption\": \"This asks if you eat fruit daily.\",\n",
        "    \"vegetable_consumption\": \"This asks if you eat vegetables daily.\",\n",
        "    \"mental_health_days\": \"This asks how many days in the past month you felt stressed or emotionally unwell.\",\n",
        "    \"difficulty_walking\": \"This asks if you have trouble walking or climbing stairs.\",\n",
        "    \"sex\": \"This asks if you are male or female.\",\n",
        "    \"age_category\": \"This asks about your age.\",\n",
        "    \"household_income\": \"This asks about your total yearly income.\"\n",
        "}\n"
      ]
    },
    {
      "cell_type": "markdown",
      "metadata": {
        "id": "6A1Kx87ivm5w"
      },
      "source": [
        "Rule-based chatbot implementation"
      ]
    },
    {
      "cell_type": "code",
      "source": [
        "import spacy\n",
        "\n",
        "# Load spaCy model\n",
        "nlp = spacy.load(\"en_core_web_sm\")"
      ],
      "metadata": {
        "id": "YBOn9tPdfa4E"
      },
      "execution_count": null,
      "outputs": []
    },
    {
      "cell_type": "code",
      "execution_count": null,
      "metadata": {
        "id": "RW6GGXkRs6wK",
        "colab": {
          "base_uri": "https://localhost:8080/"
        },
        "outputId": "bf1f845f-acb9-4638-f964-6366582cd8a7"
      },
      "outputs": [
        {
          "name": "stdout",
          "output_type": "stream",
          "text": [
            "Chatbot started! Type 'exit' to end.\n",
            "Have you been told you have high blood pressure by a doctor?\n",
            "You: exit\n"
          ]
        }
      ],
      "source": [
        "# Chatbot context and flow\n",
        "context = {\"step\": 0, \"responses\": {}}\n",
        "\n",
        "# Process user input\n",
        "def process_input(user_input):\n",
        "    doc = nlp(user_input)\n",
        "    if context[\"step\"] < len(questions)-1:\n",
        "        current_key = list(questions.keys())[context[\"step\"]]\n",
        "        response = user_input.lower()\n",
        "\n",
        "        # Example: Extract age or income and map to categories\n",
        "        if current_key == \"age\":\n",
        "            age = int(response)\n",
        "            category = age_map.get(age, \"Unknown\")\n",
        "            context[\"responses\"][\"age\"] = category\n",
        "        elif current_key == \"household_income\":\n",
        "            income = int(response)\n",
        "            category = income_map.get(income, \"Unknown\")\n",
        "            context[\"responses\"][\"household_income\"] = category\n",
        "        else:\n",
        "            context[\"responses\"][current_key] = response\n",
        "\n",
        "        # Explanation\n",
        "        explanation = explanations.get(current_key, \"\")\n",
        "        next_question = questions.get(list(questions.keys())[context[\"step\"] + 1], \"Thank you!\")\n",
        "        context[\"step\"] += 1\n",
        "\n",
        "        return f\"{explanation}\\n\\n{next_question}\"\n",
        "    else:\n",
        "        return \"Thank you! Your responses have been recorded.\"\n",
        "\n",
        "# Run chatbot interaction\n",
        "def chatbot():\n",
        "    print(\"Chatbot started! Type 'exit' to end.\")\n",
        "    print(questions[list(questions.keys())[context[\"step\"]]])\n",
        "    while True:\n",
        "        user_input = input(\"You: \")\n",
        "        if user_input.lower() == \"exit\":\n",
        "            break\n",
        "        response = process_input(user_input)\n",
        "        print(f\"Bot: {response}\")\n",
        "\n",
        "# Start the chatbot\n",
        "chatbot()"
      ]
    },
    {
      "cell_type": "markdown",
      "metadata": {
        "id": "9hCMnqu-xL8F"
      },
      "source": [
        "Prediction"
      ]
    },
    {
      "cell_type": "code",
      "execution_count": null,
      "metadata": {
        "id": "g86qebEvxF61",
        "colab": {
          "base_uri": "https://localhost:8080/"
        },
        "outputId": "f8288447-f96f-47a4-f420-05a1ebc7ba6f"
      },
      "outputs": [
        {
          "output_type": "stream",
          "name": "stdout",
          "text": [
            "Your diabetes classification is:  diabetes positive(diabetic)\n"
          ]
        }
      ],
      "source": [
        "classification = \"diabetes positive(diabetic)\" # get from model\n",
        "print(\"Your diabetes classification is: \", classification)"
      ]
    },
    {
      "cell_type": "code",
      "source": [],
      "metadata": {
        "id": "VWnwxTibkSIK"
      },
      "execution_count": null,
      "outputs": []
    }
  ],
  "metadata": {
    "colab": {
      "provenance": []
    },
    "kernelspec": {
      "display_name": "Python 3",
      "name": "python3"
    },
    "language_info": {
      "name": "python"
    }
  },
  "nbformat": 4,
  "nbformat_minor": 0
}