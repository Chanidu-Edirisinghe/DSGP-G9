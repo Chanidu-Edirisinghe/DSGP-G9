{
 "cells": [
  {
   "cell_type": "code",
   "execution_count": 55,
   "metadata": {},
   "outputs": [],
   "source": [
    "import pandas as pd"
   ]
  },
  {
   "cell_type": "code",
   "execution_count": 56,
   "metadata": {},
   "outputs": [],
   "source": [
    "df_copy = pd.read_csv(\"diabetic_data.csv\")"
   ]
  },
  {
   "cell_type": "code",
   "execution_count": 57,
   "metadata": {},
   "outputs": [],
   "source": [
    "df = df_copy.copy()"
   ]
  },
  {
   "cell_type": "code",
   "execution_count": null,
   "metadata": {},
   "outputs": [],
   "source": [
    "# Get number of features (columns)\n",
    "num_features = df.shape[1]\n",
    "\n",
    "print(f\"Number of features: {num_features}\")"
   ]
  },
  {
   "cell_type": "code",
   "execution_count": 58,
   "metadata": {},
   "outputs": [],
   "source": [
    "X = df[['race', 'gender', 'age','admission_type_id','admission_source_id', 'time_in_hospital', 'medical_specialty',\n",
    "        'num_lab_procedures', 'num_procedures', 'num_medications', 'number_outpatient', 'number_emergency', 'number_inpatient', 'diag_1',\n",
    "       'diag_2', 'diag_3','metformin', 'glipizide', 'pioglitazone', 'rosiglitazone', 'acarbose', 'insulin', 'change', 'readmitted']]"
   ]
  },
  {
   "cell_type": "markdown",
   "metadata": {},
   "source": [
    "Preprocessing"
   ]
  },
  {
   "cell_type": "code",
   "execution_count": null,
   "metadata": {},
   "outputs": [],
   "source": [
    "X.admission_type_id.value_counts()"
   ]
  },
  {
   "cell_type": "markdown",
   "metadata": {},
   "source": [
    "Checked the mapping of \"admission_type_id\" and cleaned accordingly."
   ]
  },
  {
   "cell_type": "code",
   "execution_count": null,
   "metadata": {},
   "outputs": [],
   "source": [
    "# Remove rows where 'admission_type_id' is 6 or 8\n",
    "X = X[~X['admission_type_id'].isin([6, 8])]"
   ]
  },
  {
   "cell_type": "code",
   "execution_count": null,
   "metadata": {},
   "outputs": [],
   "source": [
    "X.admission_type_id.value_counts()"
   ]
  },
  {
   "cell_type": "code",
   "execution_count": null,
   "metadata": {},
   "outputs": [],
   "source": [
    "# replace the \"7\" label of datapoints with \"6\" label\n",
    "X['admission_type_id'] = X['admission_type_id'].replace(7, 6)"
   ]
  },
  {
   "cell_type": "code",
   "execution_count": null,
   "metadata": {},
   "outputs": [],
   "source": [
    "X.admission_type_id.value_counts().sort_index()"
   ]
  },
  {
   "cell_type": "markdown",
   "metadata": {},
   "source": [
    "Checked the mapping of \"admission_source_id\" and cleaned accordingly."
   ]
  },
  {
   "cell_type": "code",
   "execution_count": null,
   "metadata": {},
   "outputs": [],
   "source": [
    "X.admission_source_id.value_counts().sort_index()"
   ]
  },
  {
   "cell_type": "code",
   "execution_count": null,
   "metadata": {},
   "outputs": [],
   "source": [
    "# Get valid labels \n",
    "X = X[X['admission_source_id'].isin([1, 2, 3, 4, 5, 6, 7, 8, 9, 10, 11, 13, 14, 22, 25])]"
   ]
  },
  {
   "cell_type": "code",
   "execution_count": null,
   "metadata": {},
   "outputs": [],
   "source": [
    "# replace the \"13\" label of datapoints with \"12\" label\n",
    "X['admission_source_id'] = X['admission_source_id'].replace(13, 12)\n",
    "\n",
    "# replace the \"14\" label of datapoints with \"13\" label\n",
    "X['admission_source_id'] = X['admission_source_id'].replace(14, 13)\n",
    "\n",
    "# replace the \"22\" label of datapoints with \"14\" label\n",
    "X['admission_source_id'] = X['admission_source_id'].replace(22, 14)\n",
    "\n",
    "# replace the \"25\" label of datapoints with \"15\" label\n",
    "X['admission_source_id'] = X['admission_source_id'].replace(25, 15)"
   ]
  },
  {
   "cell_type": "code",
   "execution_count": null,
   "metadata": {},
   "outputs": [],
   "source": [
    "X.shape"
   ]
  },
  {
   "cell_type": "code",
   "execution_count": 59,
   "metadata": {},
   "outputs": [
    {
     "data": {
      "text/plain": [
       "medical_specialty\n",
       "?                         49949\n",
       "InternalMedicine          14635\n",
       "Emergency/Trauma           7565\n",
       "Family/GeneralPractice     7440\n",
       "Cardiology                 5352\n",
       "                          ...  \n",
       "Proctology                    1\n",
       "Speech                        1\n",
       "SportsMedicine                1\n",
       "Perinatology                  1\n",
       "Neurophysiology               1\n",
       "Name: count, Length: 73, dtype: int64"
      ]
     },
     "execution_count": 59,
     "metadata": {},
     "output_type": "execute_result"
    }
   ],
   "source": [
    "X.medical_specialty.value_counts()"
   ]
  },
  {
   "cell_type": "code",
   "execution_count": 60,
   "metadata": {},
   "outputs": [],
   "source": [
    "X = X.drop(columns=['medical_specialty']) # has 49% '?', therefore dropped the column"
   ]
  },
  {
   "cell_type": "code",
   "execution_count": 61,
   "metadata": {},
   "outputs": [
    {
     "data": {
      "text/plain": [
       "gender\n",
       "Female             54708\n",
       "Male               47055\n",
       "Unknown/Invalid        3\n",
       "Name: count, dtype: int64"
      ]
     },
     "execution_count": 61,
     "metadata": {},
     "output_type": "execute_result"
    }
   ],
   "source": [
    "X.gender.value_counts()"
   ]
  },
  {
   "cell_type": "code",
   "execution_count": 62,
   "metadata": {},
   "outputs": [],
   "source": [
    "# Identify rows where 'race' is '?'\n",
    "rows_to_drop = X[X['race'] == '?'].index\n",
    "# Drop these rows\n",
    "X.drop(rows_to_drop, inplace=True)"
   ]
  },
  {
   "cell_type": "code",
   "execution_count": 63,
   "metadata": {},
   "outputs": [],
   "source": [
    "# Identify rows where 'gender' is 'invalid'\n",
    "rows_to_drop = X[X['gender'] == 'Unknown/Invalid'].index\n",
    "# Drop these rows\n",
    "X.drop(rows_to_drop, inplace=True)"
   ]
  },
  {
   "cell_type": "code",
   "execution_count": 64,
   "metadata": {},
   "outputs": [
    {
     "data": {
      "text/plain": [
       "(715,)"
      ]
     },
     "execution_count": 64,
     "metadata": {},
     "output_type": "execute_result"
    }
   ],
   "source": [
    "X.diag_1.unique().shape"
   ]
  },
  {
   "cell_type": "code",
   "execution_count": 65,
   "metadata": {},
   "outputs": [],
   "source": [
    "# Identify rows where 'diag_1' is '?'\n",
    "rows_to_drop = X[X['diag_1'] == '?'].index\n",
    "# Drop these rows\n",
    "X.drop(rows_to_drop, inplace=True)"
   ]
  },
  {
   "cell_type": "code",
   "execution_count": 66,
   "metadata": {},
   "outputs": [],
   "source": [
    "# Identify rows where 'diag_2' is '?'\n",
    "rows_to_drop = X[X['diag_2'] == '?'].index\n",
    "# Drop these rows\n",
    "X.drop(rows_to_drop, inplace=True)"
   ]
  },
  {
   "cell_type": "code",
   "execution_count": 67,
   "metadata": {},
   "outputs": [],
   "source": [
    "# Identify rows where 'diag_3' is '?'\n",
    "rows_to_drop = X[X['diag_3'] == '?'].index\n",
    "# Drop these rows\n",
    "X.drop(rows_to_drop, inplace=True)"
   ]
  },
  {
   "cell_type": "code",
   "execution_count": 68,
   "metadata": {},
   "outputs": [],
   "source": [
    "import pandas as pd\n",
    "\n",
    "# Define the mapping for ICD9 codes to group names\n",
    "def map_icd9(code):\n",
    "    try:\n",
    "        code = str(code)\n",
    "        if code.startswith(\"250\"):\n",
    "            return \"Diabetes\"\n",
    "        elif 390 <= int(code) <= 459 or code == \"785\":\n",
    "            return \"Circulatory\"\n",
    "        elif 460 <= int(code) <= 519 or code == \"786\":\n",
    "            return \"Respiratory\"\n",
    "        elif 520 <= int(code) <= 579 or code == \"787\":\n",
    "            return \"Digestive\"\n",
    "        elif 800 <= int(code) <= 999:\n",
    "            return \"Injury\"\n",
    "        elif 710 <= int(code) <= 739:\n",
    "            return \"Musculoskeletal\"\n",
    "        elif 580 <= int(code) <= 629 or code == \"788\":\n",
    "            return \"Genitourinary\"\n",
    "        elif 140 <= int(code) <= 239:\n",
    "            return \"Neoplasms\"\n",
    "        else:\n",
    "            return \"Other\"\n",
    "    except ValueError:\n",
    "        return \"Other\"\n",
    "\n",
    "# Apply the mapping\n",
    "X['diag_1'] = X['diag_1'].apply(map_icd9)\n",
    "X['diag_2'] = X['diag_2'].apply(map_icd9)\n",
    "X['diag_3'] = X['diag_3'].apply(map_icd9)\n"
   ]
  },
  {
   "cell_type": "code",
   "execution_count": 69,
   "metadata": {},
   "outputs": [],
   "source": [
    "X['readmitted'] = X['readmitted'].map({\n",
    "    '>30': 0,\n",
    "    'NO': 0,\n",
    "    '<30': 1\n",
    "})"
   ]
  },
  {
   "cell_type": "code",
   "execution_count": 70,
   "metadata": {},
   "outputs": [
    {
     "data": {
      "text/plain": [
       "Index(['race', 'gender', 'age', 'admission_type_id', 'admission_source_id',\n",
       "       'time_in_hospital', 'num_lab_procedures', 'num_procedures',\n",
       "       'num_medications', 'number_outpatient', 'number_emergency',\n",
       "       'number_inpatient', 'diag_1', 'diag_2', 'diag_3', 'metformin',\n",
       "       'glipizide', 'pioglitazone', 'rosiglitazone', 'acarbose', 'insulin',\n",
       "       'change', 'readmitted'],\n",
       "      dtype='object')"
      ]
     },
     "execution_count": 70,
     "metadata": {},
     "output_type": "execute_result"
    }
   ],
   "source": [
    "X.columns"
   ]
  },
  {
   "cell_type": "code",
   "execution_count": 71,
   "metadata": {},
   "outputs": [
    {
     "data": {
      "text/plain": [
       "readmitted\n",
       "0    86986\n",
       "1    11066\n",
       "Name: count, dtype: int64"
      ]
     },
     "execution_count": 71,
     "metadata": {},
     "output_type": "execute_result"
    }
   ],
   "source": [
    "X['readmitted'].value_counts()"
   ]
  },
  {
   "cell_type": "markdown",
   "metadata": {},
   "source": [
    "Encoding"
   ]
  },
  {
   "cell_type": "markdown",
   "metadata": {},
   "source": [
    "Ordinal encoding for age"
   ]
  },
  {
   "cell_type": "code",
   "execution_count": 72,
   "metadata": {},
   "outputs": [],
   "source": [
    "from sklearn.preprocessing import OrdinalEncoder\n",
    "\n",
    "# Define the order of categories\n",
    "categories_order = [\n",
    "    '[0-10)', '[10-20)', '[20-30)', '[30-40)', '[40-50)',\n",
    "    '[50-60)', '[60-70)', '[70-80)', '[80-90)', '[90-100)'\n",
    "]\n",
    "\n",
    "# Apply Ordinal Encoding\n",
    "encoder = OrdinalEncoder(categories=[categories_order])\n",
    "X['age'] = encoder.fit_transform(X[['age']])"
   ]
  },
  {
   "cell_type": "code",
   "execution_count": 73,
   "metadata": {},
   "outputs": [
    {
     "data": {
      "text/html": [
       "<div>\n",
       "<style scoped>\n",
       "    .dataframe tbody tr th:only-of-type {\n",
       "        vertical-align: middle;\n",
       "    }\n",
       "\n",
       "    .dataframe tbody tr th {\n",
       "        vertical-align: top;\n",
       "    }\n",
       "\n",
       "    .dataframe thead th {\n",
       "        text-align: right;\n",
       "    }\n",
       "</style>\n",
       "<table border=\"1\" class=\"dataframe\">\n",
       "  <thead>\n",
       "    <tr style=\"text-align: right;\">\n",
       "      <th></th>\n",
       "      <th>race</th>\n",
       "      <th>gender</th>\n",
       "      <th>age</th>\n",
       "      <th>admission_type_id</th>\n",
       "      <th>admission_source_id</th>\n",
       "      <th>time_in_hospital</th>\n",
       "      <th>num_lab_procedures</th>\n",
       "      <th>num_procedures</th>\n",
       "      <th>num_medications</th>\n",
       "      <th>number_outpatient</th>\n",
       "      <th>...</th>\n",
       "      <th>diag_2</th>\n",
       "      <th>diag_3</th>\n",
       "      <th>metformin</th>\n",
       "      <th>glipizide</th>\n",
       "      <th>pioglitazone</th>\n",
       "      <th>rosiglitazone</th>\n",
       "      <th>acarbose</th>\n",
       "      <th>insulin</th>\n",
       "      <th>change</th>\n",
       "      <th>readmitted</th>\n",
       "    </tr>\n",
       "  </thead>\n",
       "  <tbody>\n",
       "    <tr>\n",
       "      <th>1</th>\n",
       "      <td>Caucasian</td>\n",
       "      <td>Female</td>\n",
       "      <td>1.0</td>\n",
       "      <td>1</td>\n",
       "      <td>7</td>\n",
       "      <td>3</td>\n",
       "      <td>59</td>\n",
       "      <td>0</td>\n",
       "      <td>18</td>\n",
       "      <td>0</td>\n",
       "      <td>...</td>\n",
       "      <td>Diabetes</td>\n",
       "      <td>Other</td>\n",
       "      <td>No</td>\n",
       "      <td>No</td>\n",
       "      <td>No</td>\n",
       "      <td>No</td>\n",
       "      <td>No</td>\n",
       "      <td>Up</td>\n",
       "      <td>Ch</td>\n",
       "      <td>0</td>\n",
       "    </tr>\n",
       "    <tr>\n",
       "      <th>2</th>\n",
       "      <td>AfricanAmerican</td>\n",
       "      <td>Female</td>\n",
       "      <td>2.0</td>\n",
       "      <td>1</td>\n",
       "      <td>7</td>\n",
       "      <td>2</td>\n",
       "      <td>11</td>\n",
       "      <td>5</td>\n",
       "      <td>13</td>\n",
       "      <td>2</td>\n",
       "      <td>...</td>\n",
       "      <td>Diabetes</td>\n",
       "      <td>Other</td>\n",
       "      <td>No</td>\n",
       "      <td>Steady</td>\n",
       "      <td>No</td>\n",
       "      <td>No</td>\n",
       "      <td>No</td>\n",
       "      <td>No</td>\n",
       "      <td>No</td>\n",
       "      <td>0</td>\n",
       "    </tr>\n",
       "    <tr>\n",
       "      <th>3</th>\n",
       "      <td>Caucasian</td>\n",
       "      <td>Male</td>\n",
       "      <td>3.0</td>\n",
       "      <td>1</td>\n",
       "      <td>7</td>\n",
       "      <td>2</td>\n",
       "      <td>44</td>\n",
       "      <td>1</td>\n",
       "      <td>16</td>\n",
       "      <td>0</td>\n",
       "      <td>...</td>\n",
       "      <td>Diabetes</td>\n",
       "      <td>Circulatory</td>\n",
       "      <td>No</td>\n",
       "      <td>No</td>\n",
       "      <td>No</td>\n",
       "      <td>No</td>\n",
       "      <td>No</td>\n",
       "      <td>Up</td>\n",
       "      <td>Ch</td>\n",
       "      <td>0</td>\n",
       "    </tr>\n",
       "    <tr>\n",
       "      <th>4</th>\n",
       "      <td>Caucasian</td>\n",
       "      <td>Male</td>\n",
       "      <td>4.0</td>\n",
       "      <td>1</td>\n",
       "      <td>7</td>\n",
       "      <td>1</td>\n",
       "      <td>51</td>\n",
       "      <td>0</td>\n",
       "      <td>8</td>\n",
       "      <td>0</td>\n",
       "      <td>...</td>\n",
       "      <td>Neoplasms</td>\n",
       "      <td>Diabetes</td>\n",
       "      <td>No</td>\n",
       "      <td>Steady</td>\n",
       "      <td>No</td>\n",
       "      <td>No</td>\n",
       "      <td>No</td>\n",
       "      <td>Steady</td>\n",
       "      <td>Ch</td>\n",
       "      <td>0</td>\n",
       "    </tr>\n",
       "    <tr>\n",
       "      <th>5</th>\n",
       "      <td>Caucasian</td>\n",
       "      <td>Male</td>\n",
       "      <td>5.0</td>\n",
       "      <td>2</td>\n",
       "      <td>2</td>\n",
       "      <td>3</td>\n",
       "      <td>31</td>\n",
       "      <td>6</td>\n",
       "      <td>16</td>\n",
       "      <td>0</td>\n",
       "      <td>...</td>\n",
       "      <td>Circulatory</td>\n",
       "      <td>Diabetes</td>\n",
       "      <td>No</td>\n",
       "      <td>No</td>\n",
       "      <td>No</td>\n",
       "      <td>No</td>\n",
       "      <td>No</td>\n",
       "      <td>Steady</td>\n",
       "      <td>No</td>\n",
       "      <td>0</td>\n",
       "    </tr>\n",
       "  </tbody>\n",
       "</table>\n",
       "<p>5 rows × 23 columns</p>\n",
       "</div>"
      ],
      "text/plain": [
       "              race  gender  age  admission_type_id  admission_source_id  \\\n",
       "1        Caucasian  Female  1.0                  1                    7   \n",
       "2  AfricanAmerican  Female  2.0                  1                    7   \n",
       "3        Caucasian    Male  3.0                  1                    7   \n",
       "4        Caucasian    Male  4.0                  1                    7   \n",
       "5        Caucasian    Male  5.0                  2                    2   \n",
       "\n",
       "   time_in_hospital  num_lab_procedures  num_procedures  num_medications  \\\n",
       "1                 3                  59               0               18   \n",
       "2                 2                  11               5               13   \n",
       "3                 2                  44               1               16   \n",
       "4                 1                  51               0                8   \n",
       "5                 3                  31               6               16   \n",
       "\n",
       "   number_outpatient  ...       diag_2       diag_3 metformin glipizide  \\\n",
       "1                  0  ...     Diabetes        Other        No        No   \n",
       "2                  2  ...     Diabetes        Other        No    Steady   \n",
       "3                  0  ...     Diabetes  Circulatory        No        No   \n",
       "4                  0  ...    Neoplasms     Diabetes        No    Steady   \n",
       "5                  0  ...  Circulatory     Diabetes        No        No   \n",
       "\n",
       "  pioglitazone rosiglitazone acarbose insulin change readmitted  \n",
       "1           No            No       No      Up     Ch          0  \n",
       "2           No            No       No      No     No          0  \n",
       "3           No            No       No      Up     Ch          0  \n",
       "4           No            No       No  Steady     Ch          0  \n",
       "5           No            No       No  Steady     No          0  \n",
       "\n",
       "[5 rows x 23 columns]"
      ]
     },
     "execution_count": 73,
     "metadata": {},
     "output_type": "execute_result"
    }
   ],
   "source": [
    "X.head()"
   ]
  },
  {
   "cell_type": "markdown",
   "metadata": {},
   "source": [
    "Ordinal encoding for medicine, maybe categorical(needs checking)"
   ]
  },
  {
   "cell_type": "code",
   "execution_count": 74,
   "metadata": {},
   "outputs": [],
   "source": [
    "# Define columns to encode\n",
    "columns_to_encode = ['metformin', 'glipizide', 'pioglitazone', 'rosiglitazone', 'acarbose', 'insulin']\n",
    "\n",
    "# Define the order of categories\n",
    "category_order = ['No', 'Down', 'Steady', 'Up']\n",
    "\n",
    "# Initialize OrdinalEncoder with the specified order\n",
    "encoder = OrdinalEncoder(categories=[category_order] * len(columns_to_encode))\n",
    "\n",
    "# Apply the encoder only to the specified columns\n",
    "encoded_values = encoder.fit_transform(X[columns_to_encode])\n",
    "\n",
    "# Replace original columns with encoded values\n",
    "X[columns_to_encode] = encoded_values"
   ]
  },
  {
   "cell_type": "code",
   "execution_count": null,
   "metadata": {},
   "outputs": [],
   "source": [
    "X.number_inpatient.value_counts()"
   ]
  },
  {
   "cell_type": "markdown",
   "metadata": {},
   "source": [
    "One-hot encoding for categorical variables"
   ]
  },
  {
   "cell_type": "code",
   "execution_count": 75,
   "metadata": {},
   "outputs": [],
   "source": [
    "df_encoded = pd.get_dummies(X, columns=['admission_type_id','admission_source_id', 'race', 'gender', 'change', 'diag_1', 'diag_2', 'diag_3'])"
   ]
  },
  {
   "cell_type": "markdown",
   "metadata": {},
   "source": [
    "Checking the dataset after encoding"
   ]
  },
  {
   "cell_type": "code",
   "execution_count": 76,
   "metadata": {},
   "outputs": [
    {
     "data": {
      "text/html": [
       "<div>\n",
       "<style scoped>\n",
       "    .dataframe tbody tr th:only-of-type {\n",
       "        vertical-align: middle;\n",
       "    }\n",
       "\n",
       "    .dataframe tbody tr th {\n",
       "        vertical-align: top;\n",
       "    }\n",
       "\n",
       "    .dataframe thead th {\n",
       "        text-align: right;\n",
       "    }\n",
       "</style>\n",
       "<table border=\"1\" class=\"dataframe\">\n",
       "  <thead>\n",
       "    <tr style=\"text-align: right;\">\n",
       "      <th></th>\n",
       "      <th>age</th>\n",
       "      <th>time_in_hospital</th>\n",
       "      <th>num_lab_procedures</th>\n",
       "      <th>num_procedures</th>\n",
       "      <th>num_medications</th>\n",
       "      <th>number_outpatient</th>\n",
       "      <th>number_emergency</th>\n",
       "      <th>number_inpatient</th>\n",
       "      <th>metformin</th>\n",
       "      <th>glipizide</th>\n",
       "      <th>...</th>\n",
       "      <th>diag_2_Respiratory</th>\n",
       "      <th>diag_3_Circulatory</th>\n",
       "      <th>diag_3_Diabetes</th>\n",
       "      <th>diag_3_Digestive</th>\n",
       "      <th>diag_3_Genitourinary</th>\n",
       "      <th>diag_3_Injury</th>\n",
       "      <th>diag_3_Musculoskeletal</th>\n",
       "      <th>diag_3_Neoplasms</th>\n",
       "      <th>diag_3_Other</th>\n",
       "      <th>diag_3_Respiratory</th>\n",
       "    </tr>\n",
       "  </thead>\n",
       "  <tbody>\n",
       "    <tr>\n",
       "      <th>1</th>\n",
       "      <td>1.0</td>\n",
       "      <td>3</td>\n",
       "      <td>59</td>\n",
       "      <td>0</td>\n",
       "      <td>18</td>\n",
       "      <td>0</td>\n",
       "      <td>0</td>\n",
       "      <td>0</td>\n",
       "      <td>0.0</td>\n",
       "      <td>0.0</td>\n",
       "      <td>...</td>\n",
       "      <td>False</td>\n",
       "      <td>False</td>\n",
       "      <td>False</td>\n",
       "      <td>False</td>\n",
       "      <td>False</td>\n",
       "      <td>False</td>\n",
       "      <td>False</td>\n",
       "      <td>False</td>\n",
       "      <td>True</td>\n",
       "      <td>False</td>\n",
       "    </tr>\n",
       "    <tr>\n",
       "      <th>2</th>\n",
       "      <td>2.0</td>\n",
       "      <td>2</td>\n",
       "      <td>11</td>\n",
       "      <td>5</td>\n",
       "      <td>13</td>\n",
       "      <td>2</td>\n",
       "      <td>0</td>\n",
       "      <td>1</td>\n",
       "      <td>0.0</td>\n",
       "      <td>2.0</td>\n",
       "      <td>...</td>\n",
       "      <td>False</td>\n",
       "      <td>False</td>\n",
       "      <td>False</td>\n",
       "      <td>False</td>\n",
       "      <td>False</td>\n",
       "      <td>False</td>\n",
       "      <td>False</td>\n",
       "      <td>False</td>\n",
       "      <td>True</td>\n",
       "      <td>False</td>\n",
       "    </tr>\n",
       "    <tr>\n",
       "      <th>3</th>\n",
       "      <td>3.0</td>\n",
       "      <td>2</td>\n",
       "      <td>44</td>\n",
       "      <td>1</td>\n",
       "      <td>16</td>\n",
       "      <td>0</td>\n",
       "      <td>0</td>\n",
       "      <td>0</td>\n",
       "      <td>0.0</td>\n",
       "      <td>0.0</td>\n",
       "      <td>...</td>\n",
       "      <td>False</td>\n",
       "      <td>True</td>\n",
       "      <td>False</td>\n",
       "      <td>False</td>\n",
       "      <td>False</td>\n",
       "      <td>False</td>\n",
       "      <td>False</td>\n",
       "      <td>False</td>\n",
       "      <td>False</td>\n",
       "      <td>False</td>\n",
       "    </tr>\n",
       "    <tr>\n",
       "      <th>4</th>\n",
       "      <td>4.0</td>\n",
       "      <td>1</td>\n",
       "      <td>51</td>\n",
       "      <td>0</td>\n",
       "      <td>8</td>\n",
       "      <td>0</td>\n",
       "      <td>0</td>\n",
       "      <td>0</td>\n",
       "      <td>0.0</td>\n",
       "      <td>2.0</td>\n",
       "      <td>...</td>\n",
       "      <td>False</td>\n",
       "      <td>False</td>\n",
       "      <td>True</td>\n",
       "      <td>False</td>\n",
       "      <td>False</td>\n",
       "      <td>False</td>\n",
       "      <td>False</td>\n",
       "      <td>False</td>\n",
       "      <td>False</td>\n",
       "      <td>False</td>\n",
       "    </tr>\n",
       "    <tr>\n",
       "      <th>5</th>\n",
       "      <td>5.0</td>\n",
       "      <td>3</td>\n",
       "      <td>31</td>\n",
       "      <td>6</td>\n",
       "      <td>16</td>\n",
       "      <td>0</td>\n",
       "      <td>0</td>\n",
       "      <td>0</td>\n",
       "      <td>0.0</td>\n",
       "      <td>0.0</td>\n",
       "      <td>...</td>\n",
       "      <td>False</td>\n",
       "      <td>False</td>\n",
       "      <td>True</td>\n",
       "      <td>False</td>\n",
       "      <td>False</td>\n",
       "      <td>False</td>\n",
       "      <td>False</td>\n",
       "      <td>False</td>\n",
       "      <td>False</td>\n",
       "      <td>False</td>\n",
       "    </tr>\n",
       "  </tbody>\n",
       "</table>\n",
       "<p>5 rows × 76 columns</p>\n",
       "</div>"
      ],
      "text/plain": [
       "   age  time_in_hospital  num_lab_procedures  num_procedures  num_medications  \\\n",
       "1  1.0                 3                  59               0               18   \n",
       "2  2.0                 2                  11               5               13   \n",
       "3  3.0                 2                  44               1               16   \n",
       "4  4.0                 1                  51               0                8   \n",
       "5  5.0                 3                  31               6               16   \n",
       "\n",
       "   number_outpatient  number_emergency  number_inpatient  metformin  \\\n",
       "1                  0                 0                 0        0.0   \n",
       "2                  2                 0                 1        0.0   \n",
       "3                  0                 0                 0        0.0   \n",
       "4                  0                 0                 0        0.0   \n",
       "5                  0                 0                 0        0.0   \n",
       "\n",
       "   glipizide  ...  diag_2_Respiratory  diag_3_Circulatory  diag_3_Diabetes  \\\n",
       "1        0.0  ...               False               False            False   \n",
       "2        2.0  ...               False               False            False   \n",
       "3        0.0  ...               False                True            False   \n",
       "4        2.0  ...               False               False             True   \n",
       "5        0.0  ...               False               False             True   \n",
       "\n",
       "   diag_3_Digestive  diag_3_Genitourinary  diag_3_Injury  \\\n",
       "1             False                 False          False   \n",
       "2             False                 False          False   \n",
       "3             False                 False          False   \n",
       "4             False                 False          False   \n",
       "5             False                 False          False   \n",
       "\n",
       "   diag_3_Musculoskeletal  diag_3_Neoplasms  diag_3_Other  diag_3_Respiratory  \n",
       "1                   False             False          True               False  \n",
       "2                   False             False          True               False  \n",
       "3                   False             False         False               False  \n",
       "4                   False             False         False               False  \n",
       "5                   False             False         False               False  \n",
       "\n",
       "[5 rows x 76 columns]"
      ]
     },
     "execution_count": 76,
     "metadata": {},
     "output_type": "execute_result"
    }
   ],
   "source": [
    "df_encoded.head()"
   ]
  },
  {
   "cell_type": "code",
   "execution_count": 77,
   "metadata": {},
   "outputs": [
    {
     "data": {
      "text/plain": [
       "(76,)"
      ]
     },
     "execution_count": 77,
     "metadata": {},
     "output_type": "execute_result"
    }
   ],
   "source": [
    "df_encoded.columns.shape"
   ]
  },
  {
   "cell_type": "markdown",
   "metadata": {},
   "source": [
    "Use scaling if necessary, and also fix class imbalance issue"
   ]
  },
  {
   "cell_type": "code",
   "execution_count": 80,
   "metadata": {},
   "outputs": [
    {
     "data": {
      "text/plain": [
       "Index(['admission_type_id', 'admission_source_id', 'time_in_hospital',\n",
       "       'num_lab_procedures', 'num_procedures', 'num_medications',\n",
       "       'number_outpatient', 'number_emergency', 'number_inpatient',\n",
       "       'readmitted'],\n",
       "      dtype='object')"
      ]
     },
     "execution_count": 80,
     "metadata": {},
     "output_type": "execute_result"
    }
   ],
   "source": [
    "X.select_dtypes(include='int').columns"
   ]
  },
  {
   "cell_type": "code",
   "execution_count": 81,
   "metadata": {},
   "outputs": [
    {
     "data": {
      "text/plain": [
       "Index(['age', 'metformin', 'glipizide', 'pioglitazone', 'rosiglitazone',\n",
       "       'acarbose', 'insulin'],\n",
       "      dtype='object')"
      ]
     },
     "execution_count": 81,
     "metadata": {},
     "output_type": "execute_result"
    }
   ],
   "source": [
    "X.select_dtypes(include='float').columns"
   ]
  },
  {
   "cell_type": "code",
   "execution_count": 82,
   "metadata": {},
   "outputs": [
    {
     "data": {
      "text/plain": [
       "Index(['race', 'gender', 'diag_1', 'diag_2', 'diag_3', 'change'], dtype='object')"
      ]
     },
     "execution_count": 82,
     "metadata": {},
     "output_type": "execute_result"
    }
   ],
   "source": [
    "X.select_dtypes(include='object').columns"
   ]
  },
  {
   "cell_type": "code",
   "execution_count": null,
   "metadata": {},
   "outputs": [],
   "source": [
    "df.to_csv('filename.csv', index=False)"
   ]
  },
  {
   "cell_type": "code",
   "execution_count": null,
   "metadata": {},
   "outputs": [],
   "source": [
    "df_encoded.columns"
   ]
  },
  {
   "cell_type": "code",
   "execution_count": null,
   "metadata": {},
   "outputs": [],
   "source": [
    "print(df_encoded.describe())"
   ]
  },
  {
   "cell_type": "code",
   "execution_count": null,
   "metadata": {},
   "outputs": [],
   "source": [
    "# Select only numerical features\n",
    "numerical_features = df_encoded.select_dtypes(include=['number']).columns\n",
    "print(\"Numerical Features:\", numerical_features)"
   ]
  },
  {
   "cell_type": "code",
   "execution_count": null,
   "metadata": {},
   "outputs": [],
   "source": [
    "# Get number of features (columns)\n",
    "numof_features = df_encoded.shape[1]\n",
    "\n",
    "print(f\"Number of features: {numof_features}\")"
   ]
  },
  {
   "cell_type": "code",
   "execution_count": null,
   "metadata": {},
   "outputs": [],
   "source": [
    "df_encoded.readmitted.value_counts()"
   ]
  },
  {
   "cell_type": "code",
   "execution_count": null,
   "metadata": {},
   "outputs": [],
   "source": [
    "import pandas as pd\n",
    "from sklearn.model_selection import train_test_split\n",
    "from sklearn.ensemble import RandomForestClassifier\n",
    "from sklearn.metrics import classification_report, roc_auc_score, accuracy_score, recall_score\n",
    "from imblearn.over_sampling import SMOTE\n",
    "from imblearn.combine import SMOTEENN\n",
    "from collections import Counter\n",
    "\n",
    "\n",
    "\n",
    "X = df_encoded.drop(columns=['readmitted'])  # Independent variables\n",
    "y = df_encoded['readmitted']                 # Target variable\n",
    "\n",
    "# Step 2: Handle Class Imbalance using SMOTE-ENN\n",
    "print(\"Before SMOTE-ENN:\", Counter(y))\n",
    "smote_enn = SMOTEENN(random_state=42)\n",
    "X_resampled, y_resampled = smote_enn.fit_resample(X, y)\n",
    "print(\"After SMOTE-ENN:\", Counter(y_resampled))\n",
    "\n",
    "# Split the resampled data into train and test sets\n",
    "X_train, X_test, y_train, y_test = train_test_split(X_resampled, y_resampled, test_size=0.2, random_state=42)\n",
    "\n",
    "# Step 3: Train Random Forest Classifier with Hyperparameters\n",
    "rf = RandomForestClassifier(\n",
    "    n_estimators=100,\n",
    "    max_depth=12,              # Increased tree depth\n",
    "    min_samples_split=5,       # Minimum samples required to split a node\n",
    "    min_samples_leaf=5,        # Minimum samples required in each leaf\n",
    "    max_features='sqrt',\n",
    "    class_weight='balanced',   # Adjusted class weights\n",
    "    random_state=42,\n",
    "    n_jobs=-1\n",
    ")\n",
    "\n",
    "# Fit the model\n",
    "rf.fit(X_train, y_train)\n",
    "\n",
    "# Step 4: Evaluate the Model\n",
    "y_pred = rf.predict(X_test)\n",
    "y_pred_proba = rf.predict_proba(X_test)[:, 1]  # Probabilities for ROC-AUC\n",
    "\n",
    "print(\"Classification Report:\")\n",
    "print(classification_report(y_test, y_pred))\n",
    "\n",
    "roc_auc = roc_auc_score(y_test, y_pred_proba)\n",
    "print(f\"ROC-AUC Score: {roc_auc:.4f}\")\n",
    "\n",
    "# Calculate Accuracy for Training and Testing\n",
    "train_accuracy = accuracy_score(y_train, rf.predict(X_train))\n",
    "test_accuracy = accuracy_score(y_test, y_pred)\n",
    "\n",
    "print(f\"Training Accuracy: {train_accuracy:.4f}\")\n",
    "print(f\"Testing Accuracy: {test_accuracy:.4f}\")\n",
    "\n",
    "# Calculate Recall for Class 1\n",
    "recall = recall_score(y_test, y_pred)\n",
    "print(f\"Recall for Class 1 (Readmission): {recall:.4f}\")\n"
   ]
  },
  {
   "cell_type": "code",
   "execution_count": null,
   "metadata": {},
   "outputs": [],
   "source": [
    "from imblearn.combine import SMOTEENN\n",
    "from sklearn.preprocessing import StandardScaler\n",
    "from sklearn.linear_model import LogisticRegression\n",
    "from sklearn.metrics import classification_report, roc_auc_score\n",
    "from sklearn.model_selection import train_test_split\n",
    "from collections import Counter\n",
    "\n",
    "# Assuming X and y are your original dataset features and target variables\n",
    "print(\"Before SMOTE-ENN:\", Counter(y))\n",
    "\n",
    "# Apply SMOTE-ENN for balancing the dataset\n",
    "smoteenn = SMOTEENN(random_state=42)\n",
    "X_resampled, y_resampled = smoteenn.fit_resample(X, y)\n",
    "\n",
    "print(\"After SMOTE-ENN:\", Counter(y_resampled))\n",
    "\n",
    "# Split the resampled data into train and test sets\n",
    "X_train, X_test, y_train, y_test = train_test_split(X_resampled, y_resampled, test_size=0.2, random_state=42)\n",
    "\n",
    "# Step 1: Scaling the features for Logistic Regression\n",
    "scaler = StandardScaler()\n",
    "X_train_scaled = scaler.fit_transform(X_train)\n",
    "X_test_scaled = scaler.transform(X_test)\n",
    "\n",
    "# Step 2: Train Logistic Regression Model\n",
    "log_reg = LogisticRegression(random_state=42, class_weight='balanced', max_iter=1000)\n",
    "log_reg.fit(X_train_scaled, y_train)\n",
    "\n",
    "# Step 3: Evaluate the Logistic Regression Model\n",
    "y_pred = log_reg.predict(X_test_scaled)\n",
    "y_pred_proba = log_reg.predict_proba(X_test_scaled)[:, 1]  # Probabilities for ROC-AUC\n",
    "\n",
    "# Classification Report\n",
    "print(\"Classification Report for Logistic Regression:\")\n",
    "print(classification_report(y_test, y_pred))\n",
    "\n",
    "# ROC-AUC Score\n",
    "roc_auc = roc_auc_score(y_test, y_pred_proba)\n",
    "print(f\"ROC-AUC Score: {roc_auc:.4f}\")\n",
    "\n",
    "# Training and Testing Accuracy\n",
    "train_accuracy = log_reg.score(X_train_scaled, y_train)\n",
    "test_accuracy = log_reg.score(X_test_scaled, y_test)\n",
    "print(f\"Training Accuracy: {train_accuracy:.4f}\")\n",
    "print(f\"Testing Accuracy: {test_accuracy:.4f}\")\n"
   ]
  },
  {
   "cell_type": "code",
   "execution_count": null,
   "metadata": {},
   "outputs": [],
   "source": [
    "# Install XGBoost if not already installed\n",
    "!pip install xgboost\n",
    "\n",
    "# Import necessary libraries\n",
    "from imblearn.combine import SMOTEENN\n",
    "from sklearn.preprocessing import StandardScaler\n",
    "from xgboost import XGBClassifier\n",
    "from sklearn.model_selection import train_test_split\n",
    "from sklearn.metrics import classification_report, roc_auc_score\n",
    "from collections import Counter\n",
    "\n",
    "X = df_encoded.drop(columns=['readmitted'])  # Independent variables\n",
    "y = df_encoded['readmitted']                 # Target variable\n",
    "# Assuming X and y are your original dataset features and target variables\n",
    "print(\"Before SMOTE-ENN:\", Counter(y))\n",
    "\n",
    "# Apply SMOTE-ENN for balancing the dataset\n",
    "smoteenn = SMOTEENN(random_state=42)\n",
    "X_resampled, y_resampled = smoteenn.fit_resample(X, y)\n",
    "\n",
    "print(\"After SMOTE-ENN:\", Counter(y_resampled))\n",
    "\n",
    "# Split the resampled data into train and test sets\n",
    "X_train, X_test, y_train, y_test = train_test_split(X_resampled, y_resampled, test_size=0.2, random_state=42)\n",
    "\n",
    "# Feature Scaling\n",
    "scaler = StandardScaler()\n",
    "X_train_scaled = scaler.fit_transform(X_train)\n",
    "X_test_scaled = scaler.transform(X_test)\n",
    "\n",
    "# Initialize XGBoost model\n",
    "xgb_model = XGBClassifier(n_estimators=100, random_state=42, eval_metric='logloss')\n",
    "\n",
    "# Train the XGBoost model\n",
    "xgb_model.fit(X_train_scaled, y_train)\n",
    "\n",
    "# Predictions\n",
    "y_pred = xgb_model.predict(X_test_scaled)\n",
    "y_pred_proba = xgb_model.predict_proba(X_test_scaled)[:, 1]  # Probabilities for ROC-AUC\n",
    "\n",
    "# Evaluate the model\n",
    "print(\"\\nXGBoost Classification Report:\")\n",
    "print(classification_report(y_test, y_pred))\n",
    "print(f\"XGBoost ROC-AUC Score: {roc_auc_score(y_test, y_pred_proba):.4f}\")\n"
   ]
  }
 ],
 "metadata": {
  "kernelspec": {
   "display_name": "Python 3",
   "language": "python",
   "name": "python3"
  },
  "language_info": {
   "codemirror_mode": {
    "name": "ipython",
    "version": 3
   },
   "file_extension": ".py",
   "mimetype": "text/x-python",
   "name": "python",
   "nbconvert_exporter": "python",
   "pygments_lexer": "ipython3",
   "version": "3.12.6"
  }
 },
 "nbformat": 4,
 "nbformat_minor": 2
}
